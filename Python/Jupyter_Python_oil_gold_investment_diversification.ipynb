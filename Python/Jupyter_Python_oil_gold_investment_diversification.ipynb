{
 "cells": [
  {
   "cell_type": "markdown",
   "id": "253be0f4-1a94-49e8-bc74-c4e0869c0d13",
   "metadata": {},
   "source": [
    "# Senario & Objective"
   ]
  },
  {
   "cell_type": "markdown",
   "id": "aaf21ee8-f4be-440c-bc84-102d466bbee4",
   "metadata": {},
   "source": [
    "<p>An investment firm A is specialising in financial data analytics for businesses.\n",
    "<br>It requested analysis of three investment options (gold, oil) to determine which of them is the most stable entity to invest in.</p>"
   ]
  },
  {
   "cell_type": "markdown",
   "id": "63500ad4-629b-4341-ac2f-220add76d85e",
   "metadata": {},
   "source": [
    "# Approach"
   ]
  },
  {
   "cell_type": "markdown",
   "id": "4e99a41f-98a0-4a2d-9f56-f5b64c0da44b",
   "metadata": {},
   "source": [
    "<p>A descriptive and diagnostic analysis of oil and gold stock prices to be conducted.\n",
    "<br>Utilized data sets (read the files from the same folder where this .ipynb file is):</p>\n",
    "<ul>\n",
    "    <li>gold_stocks_price.csv</li>\n",
    "    <li>oil_price.csv</li>\n",
    "</ul>"
   ]
  },
  {
   "cell_type": "markdown",
   "id": "de434e30-3d5e-4633-8a63-5e697c88cafa",
   "metadata": {},
   "source": [
    "# Analysis"
   ]
  },
  {
   "cell_type": "code",
   "execution_count": 96,
   "id": "4a8769f5-aec0-4b78-a438-23525ab32bd1",
   "metadata": {},
   "outputs": [],
   "source": [
    "# import libraries\n",
    "import pandas as pd"
   ]
  },
  {
   "cell_type": "code",
   "execution_count": 97,
   "id": "88acdc0a-4c6f-4205-a2bf-b3d5e3add584",
   "metadata": {},
   "outputs": [],
   "source": [
    "# import data and check success\n",
    "gold_stock = pd.read_csv('gold_stocks_price.csv')\n",
    "oil = pd.read_csv('oil_price.csv')"
   ]
  },
  {
   "cell_type": "code",
   "execution_count": 98,
   "id": "b10249ba-1025-4c29-869a-9aba7be514bb",
   "metadata": {},
   "outputs": [
    {
     "name": "stdout",
     "output_type": "stream",
     "text": [
      "Variable               Type         Data/Info\n",
      "---------------------------------------------\n",
      "dataframe_columns      function     <function dataframe_colum<...>ns at 0x000001C292D4C180>\n",
      "dataframe_hash         function     <function dataframe_hash at 0x000001C292D4D9E0>\n",
      "dtypes_str             function     <function dtypes_str at 0x000001C292D4C680>\n",
      "get_dataframes         function     <function get_dataframes at 0x000001C292D4E160>\n",
      "getpass                module       <module 'getpass' from 'C<...>conda3\\\\Lib\\\\getpass.py'>\n",
      "gold_stock             DataFrame                Date        O<...>n[1718 rows x 81 columns]\n",
      "gold_stock_subset      DataFrame               Date        Op<...>n\\n[500 rows x 6 columns]\n",
      "hashlib                module       <module 'hashlib' from 'C<...>conda3\\\\Lib\\\\hashlib.py'>\n",
      "import_pandas_safely   function     <function import_pandas_s<...>ly at 0x000001C292D4E3E0>\n",
      "is_data_frame          function     <function is_data_frame at 0x000001C292D4DBC0>\n",
      "json                   module       <module 'json' from 'C:\\\\<...>\\Lib\\\\json\\\\__init__.py'>\n",
      "oil                    DataFrame                Date   Price <...>\\n[1844 rows x 6 columns]\n",
      "oil_subset             DataFrame               Date   Price  <...>n\\n[500 rows x 6 columns]\n",
      "pd                     module       <module 'pandas' from 'C:<...>es\\\\pandas\\\\__init__.py'>\n"
     ]
    }
   ],
   "source": [
    "whos"
   ]
  },
  {
   "cell_type": "markdown",
   "id": "7f101a22-58df-4eee-9a2d-28dedf59de6b",
   "metadata": {},
   "source": [
    "## Exloration of 1st dataset"
   ]
  },
  {
   "cell_type": "code",
   "execution_count": 100,
   "id": "3533beac-830f-405b-a9db-78ca5c95eb99",
   "metadata": {},
   "outputs": [
    {
     "name": "stdout",
     "output_type": "stream",
     "text": [
      "gold_stock:\n",
      "<class 'pandas.core.frame.DataFrame'>\n",
      "RangeIndex: 1718 entries, 0 to 1717\n",
      "Data columns (total 81 columns):\n",
      " #   Column         Non-Null Count  Dtype  \n",
      "---  ------         --------------  -----  \n",
      " 0   Date           1718 non-null   object \n",
      " 1   Open           1718 non-null   float64\n",
      " 2   High           1718 non-null   float64\n",
      " 3   Low            1718 non-null   float64\n",
      " 4   Close          1718 non-null   float64\n",
      " 5   Adj Close      1718 non-null   float64\n",
      " 6   Volume         1718 non-null   int64  \n",
      " 7   SP_open        1718 non-null   float64\n",
      " 8   SP_high        1718 non-null   float64\n",
      " 9   SP_low         1718 non-null   float64\n",
      " 10  SP_close       1718 non-null   float64\n",
      " 11  SP_Ajclose     1718 non-null   float64\n",
      " 12  SP_volume      1718 non-null   int64  \n",
      " 13  DJ_open        1718 non-null   float64\n",
      " 14  DJ_high        1718 non-null   float64\n",
      " 15  DJ_low         1718 non-null   float64\n",
      " 16  DJ_close       1718 non-null   float64\n",
      " 17  DJ_Ajclose     1718 non-null   float64\n",
      " 18  DJ_volume      1718 non-null   int64  \n",
      " 19  EG_open        1718 non-null   float64\n",
      " 20  EG_high        1718 non-null   float64\n",
      " 21  EG_low         1718 non-null   float64\n",
      " 22  EG_close       1718 non-null   float64\n",
      " 23  EG_Ajclose     1718 non-null   float64\n",
      " 24  EG_volume      1718 non-null   int64  \n",
      " 25  EU_Price       1718 non-null   float64\n",
      " 26  EU_open        1718 non-null   float64\n",
      " 27  EU_high        1718 non-null   float64\n",
      " 28  EU_low         1718 non-null   float64\n",
      " 29  EU_Trend       1718 non-null   int64  \n",
      " 30  OF_Price       1718 non-null   float64\n",
      " 31  OF_Open        1718 non-null   float64\n",
      " 32  OF_High        1718 non-null   float64\n",
      " 33  OF_Low         1718 non-null   float64\n",
      " 34  OF_Volume      1718 non-null   int64  \n",
      " 35  OF_Trend       1718 non-null   int64  \n",
      " 36  OS_Price       1718 non-null   float64\n",
      " 37  OS_Open        1718 non-null   float64\n",
      " 38  OS_High        1718 non-null   float64\n",
      " 39  OS_Low         1718 non-null   float64\n",
      " 40  OS_Trend       1718 non-null   int64  \n",
      " 41  SF_Price       1718 non-null   int64  \n",
      " 42  SF_Open        1718 non-null   int64  \n",
      " 43  SF_High        1718 non-null   int64  \n",
      " 44  SF_Low         1718 non-null   int64  \n",
      " 45  SF_Volume      1718 non-null   int64  \n",
      " 46  SF_Trend       1718 non-null   int64  \n",
      " 47  USB_Price      1718 non-null   float64\n",
      " 48  USB_Open       1718 non-null   float64\n",
      " 49  USB_High       1718 non-null   float64\n",
      " 50  USB_Low        1718 non-null   float64\n",
      " 51  USB_Trend      1718 non-null   int64  \n",
      " 52  PLT_Price      1718 non-null   float64\n",
      " 53  PLT_Open       1718 non-null   float64\n",
      " 54  PLT_High       1718 non-null   float64\n",
      " 55  PLT_Low        1718 non-null   float64\n",
      " 56  PLT_Trend      1718 non-null   int64  \n",
      " 57  PLD_Price      1718 non-null   float64\n",
      " 58  PLD_Open       1718 non-null   float64\n",
      " 59  PLD_High       1718 non-null   float64\n",
      " 60  PLD_Low        1718 non-null   float64\n",
      " 61  PLD_Trend      1718 non-null   int64  \n",
      " 62  RHO_PRICE      1718 non-null   int64  \n",
      " 63  USDI_Price     1718 non-null   float64\n",
      " 64  USDI_Open      1718 non-null   float64\n",
      " 65  USDI_High      1718 non-null   float64\n",
      " 66  USDI_Low       1718 non-null   float64\n",
      " 67  USDI_Volume    1718 non-null   int64  \n",
      " 68  USDI_Trend     1718 non-null   int64  \n",
      " 69  GDX_Open       1718 non-null   float64\n",
      " 70  GDX_High       1718 non-null   float64\n",
      " 71  GDX_Low        1718 non-null   float64\n",
      " 72  GDX_Close      1718 non-null   float64\n",
      " 73  GDX_Adj Close  1718 non-null   float64\n",
      " 74  GDX_Volume     1718 non-null   int64  \n",
      " 75  USO_Open       1718 non-null   float64\n",
      " 76  USO_High       1718 non-null   float64\n",
      " 77  USO_Low        1718 non-null   float64\n",
      " 78  USO_Close      1718 non-null   float64\n",
      " 79  USO_Adj Close  1718 non-null   float64\n",
      " 80  USO_Volume     1718 non-null   int64  \n",
      "dtypes: float64(58), int64(22), object(1)\n",
      "memory usage: 1.1+ MB\n"
     ]
    }
   ],
   "source": [
    "# explore imported data\n",
    "print('gold_stock:')\n",
    "gold_stock.info()"
   ]
  },
  {
   "cell_type": "code",
   "execution_count": 101,
   "id": "78374f6e-fd1c-4b41-b52d-dc03001d4cc0",
   "metadata": {},
   "outputs": [
    {
     "data": {
      "text/html": [
       "<div>\n",
       "<style scoped>\n",
       "    .dataframe tbody tr th:only-of-type {\n",
       "        vertical-align: middle;\n",
       "    }\n",
       "\n",
       "    .dataframe tbody tr th {\n",
       "        vertical-align: top;\n",
       "    }\n",
       "\n",
       "    .dataframe thead th {\n",
       "        text-align: right;\n",
       "    }\n",
       "</style>\n",
       "<table border=\"1\" class=\"dataframe\">\n",
       "  <thead>\n",
       "    <tr style=\"text-align: right;\">\n",
       "      <th></th>\n",
       "      <th>Date</th>\n",
       "      <th>Open</th>\n",
       "      <th>High</th>\n",
       "      <th>Low</th>\n",
       "    </tr>\n",
       "  </thead>\n",
       "  <tbody>\n",
       "    <tr>\n",
       "      <th>0</th>\n",
       "      <td>2011-12-15</td>\n",
       "      <td>154.740005</td>\n",
       "      <td>154.949997</td>\n",
       "      <td>151.710007</td>\n",
       "    </tr>\n",
       "    <tr>\n",
       "      <th>1</th>\n",
       "      <td>2011-12-16</td>\n",
       "      <td>154.309998</td>\n",
       "      <td>155.369995</td>\n",
       "      <td>153.899994</td>\n",
       "    </tr>\n",
       "    <tr>\n",
       "      <th>2</th>\n",
       "      <td>2011-12-19</td>\n",
       "      <td>155.479996</td>\n",
       "      <td>155.860001</td>\n",
       "      <td>154.360001</td>\n",
       "    </tr>\n",
       "    <tr>\n",
       "      <th>3</th>\n",
       "      <td>2011-12-20</td>\n",
       "      <td>156.820007</td>\n",
       "      <td>157.429993</td>\n",
       "      <td>156.580002</td>\n",
       "    </tr>\n",
       "    <tr>\n",
       "      <th>4</th>\n",
       "      <td>2011-12-21</td>\n",
       "      <td>156.979996</td>\n",
       "      <td>157.529999</td>\n",
       "      <td>156.130005</td>\n",
       "    </tr>\n",
       "  </tbody>\n",
       "</table>\n",
       "</div>"
      ],
      "text/plain": [
       "         Date        Open        High         Low\n",
       "0  2011-12-15  154.740005  154.949997  151.710007\n",
       "1  2011-12-16  154.309998  155.369995  153.899994\n",
       "2  2011-12-19  155.479996  155.860001  154.360001\n",
       "3  2011-12-20  156.820007  157.429993  156.580002\n",
       "4  2011-12-21  156.979996  157.529999  156.130005"
      ]
     },
     "execution_count": 101,
     "metadata": {},
     "output_type": "execute_result"
    }
   ],
   "source": [
    "# preview slice of a dataset\n",
    "gold_stock[['Date','Open','High','Low']].head()"
   ]
  },
  {
   "cell_type": "code",
   "execution_count": 102,
   "id": "9b38813c-db48-4b89-8720-d22ea923e1e3",
   "metadata": {},
   "outputs": [
    {
     "data": {
      "text/html": [
       "<div>\n",
       "<style scoped>\n",
       "    .dataframe tbody tr th:only-of-type {\n",
       "        vertical-align: middle;\n",
       "    }\n",
       "\n",
       "    .dataframe tbody tr th {\n",
       "        vertical-align: top;\n",
       "    }\n",
       "\n",
       "    .dataframe thead th {\n",
       "        text-align: right;\n",
       "    }\n",
       "</style>\n",
       "<table border=\"1\" class=\"dataframe\">\n",
       "  <thead>\n",
       "    <tr style=\"text-align: right;\">\n",
       "      <th></th>\n",
       "      <th>Date</th>\n",
       "      <th>Open</th>\n",
       "      <th>High</th>\n",
       "      <th>Low</th>\n",
       "    </tr>\n",
       "  </thead>\n",
       "  <tbody>\n",
       "    <tr>\n",
       "      <th>1713</th>\n",
       "      <td>2018-12-24</td>\n",
       "      <td>119.570000</td>\n",
       "      <td>120.139999</td>\n",
       "      <td>119.570000</td>\n",
       "    </tr>\n",
       "    <tr>\n",
       "      <th>1714</th>\n",
       "      <td>2018-12-26</td>\n",
       "      <td>120.620003</td>\n",
       "      <td>121.000000</td>\n",
       "      <td>119.570000</td>\n",
       "    </tr>\n",
       "    <tr>\n",
       "      <th>1715</th>\n",
       "      <td>2018-12-27</td>\n",
       "      <td>120.570000</td>\n",
       "      <td>120.900002</td>\n",
       "      <td>120.139999</td>\n",
       "    </tr>\n",
       "    <tr>\n",
       "      <th>1716</th>\n",
       "      <td>2018-12-28</td>\n",
       "      <td>120.800003</td>\n",
       "      <td>121.080002</td>\n",
       "      <td>120.720001</td>\n",
       "    </tr>\n",
       "    <tr>\n",
       "      <th>1717</th>\n",
       "      <td>2018-12-31</td>\n",
       "      <td>120.980003</td>\n",
       "      <td>121.260002</td>\n",
       "      <td>120.830002</td>\n",
       "    </tr>\n",
       "  </tbody>\n",
       "</table>\n",
       "</div>"
      ],
      "text/plain": [
       "            Date        Open        High         Low\n",
       "1713  2018-12-24  119.570000  120.139999  119.570000\n",
       "1714  2018-12-26  120.620003  121.000000  119.570000\n",
       "1715  2018-12-27  120.570000  120.900002  120.139999\n",
       "1716  2018-12-28  120.800003  121.080002  120.720001\n",
       "1717  2018-12-31  120.980003  121.260002  120.830002"
      ]
     },
     "execution_count": 102,
     "metadata": {},
     "output_type": "execute_result"
    }
   ],
   "source": [
    "gold_stock[['Date','Open','High','Low']].tail()"
   ]
  },
  {
   "cell_type": "code",
   "execution_count": 103,
   "id": "866cba27-3309-443d-b1c4-ec01c899790d",
   "metadata": {},
   "outputs": [
    {
     "name": "stdout",
     "output_type": "stream",
     "text": [
      "<class 'pandas.core.frame.DataFrame'>\n",
      "RangeIndex: 500 entries, 0 to 499\n",
      "Data columns (total 4 columns):\n",
      " #   Column  Non-Null Count  Dtype  \n",
      "---  ------  --------------  -----  \n",
      " 0   Date    500 non-null    object \n",
      " 1   Open    500 non-null    float64\n",
      " 2   High    500 non-null    float64\n",
      " 3   Low     500 non-null    float64\n",
      "dtypes: float64(3), object(1)\n",
      "memory usage: 15.8+ KB\n"
     ]
    }
   ],
   "source": [
    "# create a subset of 500 rows\n",
    "gold_stock_subset = gold_stock[['Date','Open','High','Low']].iloc[:500]\n",
    "gold_stock_subset.info()"
   ]
  },
  {
   "cell_type": "code",
   "execution_count": 104,
   "id": "f7fcac62-53d5-48ae-baee-30f486825e86",
   "metadata": {},
   "outputs": [
    {
     "data": {
      "text/plain": [
       "Date    0\n",
       "Open    0\n",
       "High    0\n",
       "Low     0\n",
       "dtype: int64"
      ]
     },
     "execution_count": 104,
     "metadata": {},
     "output_type": "execute_result"
    }
   ],
   "source": [
    "# confirm no missing values\n",
    "gold_stock_subset.isna().sum()"
   ]
  },
  {
   "cell_type": "markdown",
   "id": "82056f8d-749c-4a3f-a666-5a598a1d80ad",
   "metadata": {},
   "source": [
    "## Exloration of 2nd dataset"
   ]
  },
  {
   "cell_type": "code",
   "execution_count": 106,
   "id": "2d80e72f-40b4-46db-918f-072190f3b862",
   "metadata": {},
   "outputs": [
    {
     "name": "stdout",
     "output_type": "stream",
     "text": [
      "oil:\n",
      "<class 'pandas.core.frame.DataFrame'>\n",
      "RangeIndex: 1844 entries, 0 to 1843\n",
      "Data columns (total 6 columns):\n",
      " #   Column  Non-Null Count  Dtype  \n",
      "---  ------  --------------  -----  \n",
      " 0   Date    1844 non-null   object \n",
      " 1   Price   1844 non-null   float64\n",
      " 2   Open    1844 non-null   float64\n",
      " 3   High    1844 non-null   float64\n",
      " 4   Low     1844 non-null   float64\n",
      " 5   Vol.    1844 non-null   object \n",
      "dtypes: float64(4), object(2)\n",
      "memory usage: 86.6+ KB\n"
     ]
    }
   ],
   "source": [
    "# explore imported data\n",
    "print('oil:')\n",
    "oil.info()"
   ]
  },
  {
   "cell_type": "code",
   "execution_count": 107,
   "id": "626a7fd5-efeb-43a7-85e1-f8b7b80a5e98",
   "metadata": {},
   "outputs": [
    {
     "data": {
      "text/html": [
       "<div>\n",
       "<style scoped>\n",
       "    .dataframe tbody tr th:only-of-type {\n",
       "        vertical-align: middle;\n",
       "    }\n",
       "\n",
       "    .dataframe tbody tr th {\n",
       "        vertical-align: top;\n",
       "    }\n",
       "\n",
       "    .dataframe thead th {\n",
       "        text-align: right;\n",
       "    }\n",
       "</style>\n",
       "<table border=\"1\" class=\"dataframe\">\n",
       "  <thead>\n",
       "    <tr style=\"text-align: right;\">\n",
       "      <th></th>\n",
       "      <th>Date</th>\n",
       "      <th>Open</th>\n",
       "      <th>High</th>\n",
       "      <th>Low</th>\n",
       "    </tr>\n",
       "  </thead>\n",
       "  <tbody>\n",
       "    <tr>\n",
       "      <th>0</th>\n",
       "      <td>2011-12-01</td>\n",
       "      <td>100.51</td>\n",
       "      <td>101.17</td>\n",
       "      <td>98.87</td>\n",
       "    </tr>\n",
       "    <tr>\n",
       "      <th>1</th>\n",
       "      <td>2011-12-02</td>\n",
       "      <td>100.00</td>\n",
       "      <td>101.56</td>\n",
       "      <td>99.76</td>\n",
       "    </tr>\n",
       "    <tr>\n",
       "      <th>2</th>\n",
       "      <td>2011-12-05</td>\n",
       "      <td>101.23</td>\n",
       "      <td>102.44</td>\n",
       "      <td>100.24</td>\n",
       "    </tr>\n",
       "    <tr>\n",
       "      <th>3</th>\n",
       "      <td>2011-12-06</td>\n",
       "      <td>100.45</td>\n",
       "      <td>101.42</td>\n",
       "      <td>100.20</td>\n",
       "    </tr>\n",
       "    <tr>\n",
       "      <th>4</th>\n",
       "      <td>2011-12-07</td>\n",
       "      <td>101.11</td>\n",
       "      <td>101.94</td>\n",
       "      <td>99.67</td>\n",
       "    </tr>\n",
       "  </tbody>\n",
       "</table>\n",
       "</div>"
      ],
      "text/plain": [
       "         Date    Open    High     Low\n",
       "0  2011-12-01  100.51  101.17   98.87\n",
       "1  2011-12-02  100.00  101.56   99.76\n",
       "2  2011-12-05  101.23  102.44  100.24\n",
       "3  2011-12-06  100.45  101.42  100.20\n",
       "4  2011-12-07  101.11  101.94   99.67"
      ]
     },
     "execution_count": 107,
     "metadata": {},
     "output_type": "execute_result"
    }
   ],
   "source": [
    "# preview slice of a dataset\n",
    "oil[['Date', 'Open', 'High', 'Low']].head()"
   ]
  },
  {
   "cell_type": "code",
   "execution_count": 108,
   "id": "9064654a-6bc4-496d-81a3-af1bde4a2ca8",
   "metadata": {},
   "outputs": [
    {
     "data": {
      "text/html": [
       "<div>\n",
       "<style scoped>\n",
       "    .dataframe tbody tr th:only-of-type {\n",
       "        vertical-align: middle;\n",
       "    }\n",
       "\n",
       "    .dataframe tbody tr th {\n",
       "        vertical-align: top;\n",
       "    }\n",
       "\n",
       "    .dataframe thead th {\n",
       "        text-align: right;\n",
       "    }\n",
       "</style>\n",
       "<table border=\"1\" class=\"dataframe\">\n",
       "  <thead>\n",
       "    <tr style=\"text-align: right;\">\n",
       "      <th></th>\n",
       "      <th>Date</th>\n",
       "      <th>Open</th>\n",
       "      <th>High</th>\n",
       "      <th>Low</th>\n",
       "    </tr>\n",
       "  </thead>\n",
       "  <tbody>\n",
       "    <tr>\n",
       "      <th>1839</th>\n",
       "      <td>2018-12-25</td>\n",
       "      <td>43.00</td>\n",
       "      <td>43.25</td>\n",
       "      <td>42.88</td>\n",
       "    </tr>\n",
       "    <tr>\n",
       "      <th>1840</th>\n",
       "      <td>2018-12-26</td>\n",
       "      <td>42.85</td>\n",
       "      <td>47.00</td>\n",
       "      <td>42.52</td>\n",
       "    </tr>\n",
       "    <tr>\n",
       "      <th>1841</th>\n",
       "      <td>2018-12-27</td>\n",
       "      <td>46.58</td>\n",
       "      <td>46.70</td>\n",
       "      <td>44.37</td>\n",
       "    </tr>\n",
       "    <tr>\n",
       "      <th>1842</th>\n",
       "      <td>2018-12-28</td>\n",
       "      <td>45.44</td>\n",
       "      <td>46.22</td>\n",
       "      <td>44.42</td>\n",
       "    </tr>\n",
       "    <tr>\n",
       "      <th>1843</th>\n",
       "      <td>2018-12-31</td>\n",
       "      <td>45.22</td>\n",
       "      <td>46.53</td>\n",
       "      <td>44.73</td>\n",
       "    </tr>\n",
       "  </tbody>\n",
       "</table>\n",
       "</div>"
      ],
      "text/plain": [
       "            Date   Open   High    Low\n",
       "1839  2018-12-25  43.00  43.25  42.88\n",
       "1840  2018-12-26  42.85  47.00  42.52\n",
       "1841  2018-12-27  46.58  46.70  44.37\n",
       "1842  2018-12-28  45.44  46.22  44.42\n",
       "1843  2018-12-31  45.22  46.53  44.73"
      ]
     },
     "execution_count": 108,
     "metadata": {},
     "output_type": "execute_result"
    }
   ],
   "source": [
    "oil[['Date', 'Open', 'High', 'Low']].tail()"
   ]
  },
  {
   "cell_type": "code",
   "execution_count": 109,
   "id": "56eb6624-2440-42cb-86a9-b030073ed5aa",
   "metadata": {},
   "outputs": [
    {
     "name": "stdout",
     "output_type": "stream",
     "text": [
      "<class 'pandas.core.frame.DataFrame'>\n",
      "RangeIndex: 500 entries, 0 to 499\n",
      "Data columns (total 4 columns):\n",
      " #   Column  Non-Null Count  Dtype  \n",
      "---  ------  --------------  -----  \n",
      " 0   Date    500 non-null    object \n",
      " 1   Open    500 non-null    float64\n",
      " 2   High    500 non-null    float64\n",
      " 3   Low     500 non-null    float64\n",
      "dtypes: float64(3), object(1)\n",
      "memory usage: 15.8+ KB\n"
     ]
    }
   ],
   "source": [
    "# create a subset of 500 rows\n",
    "oil_subset = oil[['Date', 'Open', 'High', 'Low']].iloc[:500]\n",
    "oil_subset.info()"
   ]
  },
  {
   "cell_type": "code",
   "execution_count": 110,
   "id": "3ff03b1e-3df9-49f5-8298-943a15780225",
   "metadata": {},
   "outputs": [
    {
     "data": {
      "text/plain": [
       "Date    0\n",
       "Open    0\n",
       "High    0\n",
       "Low     0\n",
       "dtype: int64"
      ]
     },
     "execution_count": 110,
     "metadata": {},
     "output_type": "execute_result"
    }
   ],
   "source": [
    "# confirm no missing values\n",
    "oil_subset.isna().sum()"
   ]
  },
  {
   "cell_type": "markdown",
   "id": "a5490f07-6e60-4a0c-9778-99224a38c3f7",
   "metadata": {},
   "source": [
    "## Comaparative analysis"
   ]
  },
  {
   "cell_type": "code",
   "execution_count": 112,
   "id": "01c4b368-c82f-4699-b88c-9984ab2f42e6",
   "metadata": {},
   "outputs": [
    {
     "name": "stdout",
     "output_type": "stream",
     "text": [
      "gold_stock_subset:\n",
      "             Open        High         Low\n",
      "count  500.000000  500.000000  500.000000\n",
      "mean   149.033480  149.774340  148.266740\n",
      "std     16.923214   16.919180   16.871447\n",
      "min    117.580002  118.180000  116.739998\n",
      "25%    132.134998  133.144997  131.192501\n",
      "50%    155.070000  155.610001  154.360001\n",
      "75%    161.862500  162.577500  161.149994\n",
      "max    173.199997  174.070007  172.919998\n",
      "oil_subset:\n",
      "             Open        High         Low\n",
      "count  500.000000  500.000000  500.000000\n",
      "mean    96.196620   97.153780   95.084320\n",
      "std      6.991871    6.945661    7.003769\n",
      "min     78.110000   79.680000   77.280000\n",
      "25%     91.707500   92.627500   90.645000\n",
      "50%     95.790000   96.640000   94.820000\n",
      "75%    102.002500  102.962500  100.847500\n",
      "max    110.280000  112.240000  109.110000\n"
     ]
    }
   ],
   "source": [
    "# calculate descriptive statistics:\n",
    "print('gold_stock_subset:')\n",
    "print(gold_stock_subset.describe())\n",
    "print('oil_subset:')\n",
    "print(oil_subset.describe())"
   ]
  },
  {
   "cell_type": "markdown",
   "id": "f34d7a84-7a2a-421e-bc67-40b1e8c797e5",
   "metadata": {},
   "source": [
    "# Findings"
   ]
  },
  {
   "cell_type": "code",
   "execution_count": 114,
   "id": "85c5ccd1-7dbe-478d-ae64-96fb1afaa8ae",
   "metadata": {},
   "outputs": [
    {
     "name": "stdout",
     "output_type": "stream",
     "text": [
      "The maximum 'open' value within the 500 rows gold sample is 173.199997\n",
      "The minimum 'open' value within the 500 rows gold sample is 117.580002\n",
      "The maximum 'high' value within the 500 rows gold sample is 174.070007\n",
      "The minimum 'high' value within the 500 rows gold sample is 118.18\n",
      "The maximum 'low' value within the 500 rows gold sample is 172.919998\n",
      "The minimum 'low' value within the 500 rows gold sample is 116.739998\n"
     ]
    }
   ],
   "source": [
    "# summarise findings\n",
    "print(f\"The maximum 'open' value within the 500 rows gold sample is {gold_stock_subset['Open'].max()}\")\n",
    "print(f\"The minimum 'open' value within the 500 rows gold sample is {gold_stock_subset['Open'].min()}\")\n",
    "\n",
    "print(f\"The maximum 'high' value within the 500 rows gold sample is {gold_stock_subset['High'].max()}\")\n",
    "print(f\"The minimum 'high' value within the 500 rows gold sample is {gold_stock_subset['High'].min()}\")\n",
    "\n",
    "print(f\"The maximum 'low' value within the 500 rows gold sample is {gold_stock_subset['Low'].max()}\")\n",
    "print(f\"The minimum 'low' value within the 500 rows gold sample is {gold_stock_subset['Low'].min()}\")"
   ]
  },
  {
   "cell_type": "code",
   "execution_count": 115,
   "id": "24a70f17-c999-476d-a05d-c2d34f404ca8",
   "metadata": {},
   "outputs": [
    {
     "name": "stdout",
     "output_type": "stream",
     "text": [
      "The maximum 'open' value within the 500 rows oil sample is 110.28\n",
      "The minimum 'open' value within the 500 rows oil sample is 78.11\n",
      "The maximum 'high' value within the 500 rows oil sample is 112.24\n",
      "The minimum 'high' value within the 500 rows oil sample is 79.68\n",
      "The maximum 'low' value within the 500 rows oil sample is 109.11\n",
      "The minimum 'low' value within the 500 rows oil sample is 77.28\n"
     ]
    }
   ],
   "source": [
    "print(f\"The maximum 'open' value within the 500 rows oil sample is {oil_subset['Open'].max()}\")\n",
    "print(f\"The minimum 'open' value within the 500 rows oil sample is {oil_subset['Open'].min()}\")\n",
    "\n",
    "print(f\"The maximum 'high' value within the 500 rows oil sample is {oil_subset['High'].max()}\")\n",
    "print(f\"The minimum 'high' value within the 500 rows oil sample is {oil_subset['High'].min()}\")\n",
    "\n",
    "print(f\"The maximum 'low' value within the 500 rows oil sample is {oil_subset['Low'].max()}\")\n",
    "print(f\"The minimum 'low' value within the 500 rows oil sample is {oil_subset['Low'].min()}\")"
   ]
  }
 ],
 "metadata": {
  "kernelspec": {
   "display_name": "Python [conda env:base] *",
   "language": "python",
   "name": "conda-base-py"
  },
  "language_info": {
   "codemirror_mode": {
    "name": "ipython",
    "version": 3
   },
   "file_extension": ".py",
   "mimetype": "text/x-python",
   "name": "python",
   "nbconvert_exporter": "python",
   "pygments_lexer": "ipython3",
   "version": "3.12.4"
  }
 },
 "nbformat": 4,
 "nbformat_minor": 5
}
